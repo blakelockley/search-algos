{
 "cells": [
  {
   "cell_type": "code",
   "execution_count": null,
   "metadata": {},
   "outputs": [],
   "source": [
    "from simpleai.search import CspProblem, backtrack\n",
    "\n",
    "# Specify that neighbours should be different\n",
    "def constraint_func(names, values):\n",
    "    return values[0] != values[1]  \n",
    "\n",
    "    # Specify the variables\n",
    "    names = None # Add the names for the regions here.\n",
    "\n",
    "    # Specify the available colours \n",
    "    colours = None # Add data structure for colours here.\n",
    "\n",
    "    # Specify the constraints \n",
    "    constraints = None # Add constraints here.\n",
    "\n",
    "    # Solve the problem\n",
    "    problem = CspProblem(names, colours, constraints)\n",
    "\n",
    "    # Print the solution\n",
    "    output = backtrack(problem)\n",
    "    # Add code for printing the solution here."
   ]
  }
 ],
 "metadata": {
  "kernelspec": {
   "display_name": "Python 3",
   "language": "python",
   "name": "python3"
  },
  "language_info": {
   "codemirror_mode": {
    "name": "ipython",
    "version": 3
   },
   "file_extension": ".py",
   "mimetype": "text/x-python",
   "name": "python",
   "nbconvert_exporter": "python",
   "pygments_lexer": "ipython3",
   "version": "3.6.5"
  }
 },
 "nbformat": 4,
 "nbformat_minor": 2
}
